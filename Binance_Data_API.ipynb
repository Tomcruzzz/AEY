{
  "nbformat": 4,
  "nbformat_minor": 0,
  "metadata": {
    "colab": {
      "provenance": [],
      "authorship_tag": "ABX9TyPABhb7Ba9ioMqtXWpSin6q",
      "include_colab_link": true
    },
    "kernelspec": {
      "name": "python3",
      "display_name": "Python 3"
    },
    "language_info": {
      "name": "python"
    }
  },
  "cells": [
    {
      "cell_type": "markdown",
      "metadata": {
        "id": "view-in-github",
        "colab_type": "text"
      },
      "source": [
        "<a href=\"https://colab.research.google.com/github/Tomcruzzz/AEY/blob/master/Binance_Data_API.ipynb\" target=\"_parent\"><img src=\"https://colab.research.google.com/assets/colab-badge.svg\" alt=\"Open In Colab\"/></a>"
      ]
    },
    {
      "cell_type": "markdown",
      "source": [
        "Intialize api "
      ],
      "metadata": {
        "id": "Fo0vFQWaRGvM"
      }
    },
    {
      "cell_type": "code",
      "execution_count": 1,
      "metadata": {
        "id": "2Y-7K8y6PNc-"
      },
      "outputs": [],
      "source": [
        "apikey = 'YOURAPIKEY'\n",
        "secret = 'YOURAPISECRET'"
      ]
    },
    {
      "cell_type": "code",
      "source": [
        "!pip install python-binance pandas mplfinance"
      ],
      "metadata": {
        "id": "97ytCq6lPRy1"
      },
      "execution_count": null,
      "outputs": []
    },
    {
      "cell_type": "code",
      "source": [
        "from binance import Client, ThreadedWebsocketManager, ThreadedDepthCacheManager\n",
        "import pandas as pd"
      ],
      "metadata": {
        "id": "FwhKwS3fPUmc"
      },
      "execution_count": null,
      "outputs": []
    },
    {
      "cell_type": "markdown",
      "source": [
        "get data"
      ],
      "metadata": {
        "id": "7iTcq6wtROWU"
      }
    },
    {
      "cell_type": "code",
      "source": [
        "client = Client(apikey, secret)"
      ],
      "metadata": {
        "id": "YI4yzJ_PPXSD"
      },
      "execution_count": null,
      "outputs": []
    },
    {
      "cell_type": "code",
      "source": [
        "tickers = client.get_all_tickers()"
      ],
      "metadata": {
        "id": "mRbKhgRHPZLV"
      },
      "execution_count": null,
      "outputs": []
    },
    {
      "cell_type": "code",
      "source": [
        "ticker_df = pd.DataFrame(tickers)"
      ],
      "metadata": {
        "id": "N7-lKjvfPczV"
      },
      "execution_count": null,
      "outputs": []
    },
    {
      "cell_type": "code",
      "source": [
        "ticker_df.head()"
      ],
      "metadata": {
        "id": "hbutIxU_PhfG"
      },
      "execution_count": null,
      "outputs": []
    },
    {
      "cell_type": "code",
      "source": [
        "ticker_df.tail()"
      ],
      "metadata": {
        "id": "AogC8a0kPjY3"
      },
      "execution_count": null,
      "outputs": []
    },
    {
      "cell_type": "code",
      "source": [
        "ticker_df.set_index('symbol', inplace=True)"
      ],
      "metadata": {
        "id": "kxQDbbvJPmum"
      },
      "execution_count": null,
      "outputs": []
    },
    {
      "cell_type": "code",
      "source": [
        "depth = client.get_order_book(symbol='BTCUSDT')"
      ],
      "metadata": {
        "id": "-5EQG8N5Pt1I"
      },
      "execution_count": null,
      "outputs": []
    },
    {
      "cell_type": "code",
      "source": [
        "depth_df = pd.DataFrame(depth['asks'])\n",
        "depth_df.columns = ['Price', 'Volume']\n",
        "depth_df.head()"
      ],
      "metadata": {
        "id": "133CtvvjPw3I"
      },
      "execution_count": null,
      "outputs": []
    },
    {
      "cell_type": "code",
      "source": [
        "depth_df.dtypes"
      ],
      "metadata": {
        "id": "9PMysM9MPz_h"
      },
      "execution_count": null,
      "outputs": []
    },
    {
      "cell_type": "markdown",
      "source": [
        "historical data 1 day timeframe"
      ],
      "metadata": {
        "id": "s0ZTfrRJRTkN"
      }
    },
    {
      "cell_type": "code",
      "source": [
        "historical = client.get_historical_klines('ETHBTC', Client.KLINE_INTERVAL_1DAY, '1 Jan 2011')"
      ],
      "metadata": {
        "id": "ag0wIIviP2M5"
      },
      "execution_count": null,
      "outputs": []
    },
    {
      "cell_type": "code",
      "source": [
        "hist_df = pd.DataFrame(historical)"
      ],
      "metadata": {
        "id": "e5gzNwZlQENC"
      },
      "execution_count": null,
      "outputs": []
    },
    {
      "cell_type": "code",
      "source": [
        "hist_df.head()"
      ],
      "metadata": {
        "id": "n_fNHNnrQeme"
      },
      "execution_count": null,
      "outputs": []
    },
    {
      "cell_type": "code",
      "source": [
        "hist_df.columns = ['Open Time', 'Open', 'High', 'Low', 'Close', 'Volume', 'Close Time', 'Quote Asset Volume', \n",
        "                    'Number of Trades', 'TB Base Volume', 'TB Quote Volume', 'Ignore']"
      ],
      "metadata": {
        "id": "5KKCwLCuQgLm"
      },
      "execution_count": null,
      "outputs": []
    },
    {
      "cell_type": "code",
      "source": [
        "hist_df.tail()"
      ],
      "metadata": {
        "id": "GANJ2Uj9Qi69"
      },
      "execution_count": null,
      "outputs": []
    },
    {
      "cell_type": "code",
      "source": [
        "hist_df.shape"
      ],
      "metadata": {
        "id": "vfW9_tXwQkhm"
      },
      "execution_count": null,
      "outputs": []
    },
    {
      "cell_type": "code",
      "source": [
        "hist_df.dtypes"
      ],
      "metadata": {
        "id": "_dcmHBxpQnL4"
      },
      "execution_count": null,
      "outputs": []
    },
    {
      "cell_type": "code",
      "source": [
        "hist_df['Open Time'] = pd.to_datetime(hist_df['Open Time']/1000, unit='s')\n",
        "hist_df['Close Time'] = pd.to_datetime(hist_df['Close Time']/1000, unit='s')"
      ],
      "metadata": {
        "id": "EKWPBl4nQpAC"
      },
      "execution_count": null,
      "outputs": []
    },
    {
      "cell_type": "code",
      "source": [
        "numeric_columns = ['Open', 'High', 'Low', 'Close', 'Volume', 'Quote Asset Volume', 'TB Base Volume', 'TB Quote Volume']"
      ],
      "metadata": {
        "id": "fSpKUycPQrQZ"
      },
      "execution_count": null,
      "outputs": []
    },
    {
      "cell_type": "code",
      "source": [
        "hist_df[numeric_columns] = hist_df[numeric_columns].apply(pd.to_numeric, axis=1)"
      ],
      "metadata": {
        "id": "hI5-n8_6Qs-p"
      },
      "execution_count": null,
      "outputs": []
    },
    {
      "cell_type": "code",
      "source": [
        "hist_df.tail()"
      ],
      "metadata": {
        "id": "cWeIZ05lQt4r"
      },
      "execution_count": null,
      "outputs": []
    },
    {
      "cell_type": "code",
      "source": [
        "hist_df.dtypes"
      ],
      "metadata": {
        "id": "C00MS682QvqH"
      },
      "execution_count": null,
      "outputs": []
    },
    {
      "cell_type": "code",
      "source": [
        "hist_df.describe()"
      ],
      "metadata": {
        "id": "Bt3_mnjwQxuw"
      },
      "execution_count": null,
      "outputs": []
    },
    {
      "cell_type": "code",
      "source": [
        "hist_df.info()"
      ],
      "metadata": {
        "id": "pkK_3rrEQzi5"
      },
      "execution_count": null,
      "outputs": []
    },
    {
      "cell_type": "code",
      "source": [
        "import mplfinance as mpf"
      ],
      "metadata": {
        "id": "EetAjxUxQ3gS"
      },
      "execution_count": null,
      "outputs": []
    },
    {
      "cell_type": "code",
      "source": [
        "hist_df.set_index('Close Time').tail(100)"
      ],
      "metadata": {
        "id": "1_pijw3NQ7TJ"
      },
      "execution_count": null,
      "outputs": []
    },
    {
      "cell_type": "markdown",
      "source": [
        "Plot graph with moving averages"
      ],
      "metadata": {
        "id": "FGOyJDpsRe2R"
      }
    },
    {
      "cell_type": "code",
      "source": [
        "mpf.plot(hist_df.set_index('Close Time').tail(120), \n",
        "        type='candle', style='charles', \n",
        "        volume=True, \n",
        "        title='ETHBTC Last 120 Days', \n",
        "        mav=(10,20,30))"
      ],
      "metadata": {
        "id": "r68OL2oqQ9Sa"
      },
      "execution_count": null,
      "outputs": []
    },
    {
      "cell_type": "code",
      "source": [],
      "metadata": {
        "id": "NxGTOo2gQ_rj"
      },
      "execution_count": null,
      "outputs": []
    }
  ]
}