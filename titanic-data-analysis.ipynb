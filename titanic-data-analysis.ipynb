{
 "cells": [
  {
   "cell_type": "code",
   "execution_count": 1,
   "id": "e7934b3b",
   "metadata": {
    "_cell_guid": "b1076dfc-b9ad-4769-8c92-a6c4dae69d19",
    "_uuid": "8f2839f25d086af736a60e9eeb907d3b93b6e0e5",
    "execution": {
     "iopub.execute_input": "2025-06-09T16:04:01.413838Z",
     "iopub.status.busy": "2025-06-09T16:04:01.413431Z",
     "iopub.status.idle": "2025-06-09T16:04:03.501049Z",
     "shell.execute_reply": "2025-06-09T16:04:03.498622Z"
    },
    "papermill": {
     "duration": 2.098999,
     "end_time": "2025-06-09T16:04:03.503602",
     "exception": false,
     "start_time": "2025-06-09T16:04:01.404603",
     "status": "completed"
    },
    "tags": []
   },
   "outputs": [
    {
     "name": "stdout",
     "output_type": "stream",
     "text": [
      "/kaggle/input/titanic/train.csv\n",
      "/kaggle/input/titanic/test.csv\n",
      "/kaggle/input/titanic/gender_submission.csv\n"
     ]
    }
   ],
   "source": [
    "# This Python 3 environment comes with many helpful analytics libraries installed\n",
    "# It is defined by the kaggle/python Docker image: https://github.com/kaggle/docker-python\n",
    "# For example, here's several helpful packages to load\n",
    "\n",
    "import numpy as np # linear algebra\n",
    "import pandas as pd # data processing, CSV file I/O (e.g. pd.read_csv)\n",
    "\n",
    "# Input data files are available in the read-only \"../input/\" directory\n",
    "# For example, running this (by clicking run or pressing Shift+Enter) will list all files under the input directory\n",
    "\n",
    "import os\n",
    "for dirname, _, filenames in os.walk('/kaggle/input'):\n",
    "    for filename in filenames:\n",
    "        print(os.path.join(dirname, filename))\n",
    "\n",
    "# You can write up to 20GB to the current directory (/kaggle/working/) that gets preserved as output when you create a version using \"Save & Run All\" \n",
    "# You can also write temporary files to /kaggle/temp/, but they won't be saved outside of the current session"
   ]
  },
  {
   "cell_type": "code",
   "execution_count": 2,
   "id": "78dd91e6",
   "metadata": {
    "execution": {
     "iopub.execute_input": "2025-06-09T16:04:03.517492Z",
     "iopub.status.busy": "2025-06-09T16:04:03.517072Z",
     "iopub.status.idle": "2025-06-09T16:04:06.550304Z",
     "shell.execute_reply": "2025-06-09T16:04:06.549354Z"
    },
    "papermill": {
     "duration": 3.041548,
     "end_time": "2025-06-09T16:04:06.551984",
     "exception": false,
     "start_time": "2025-06-09T16:04:03.510436",
     "status": "completed"
    },
    "tags": []
   },
   "outputs": [],
   "source": [
    "import matplotlib.pyplot as plt\n",
    "import seaborn as sns\n",
    "from sklearn.ensemble import RandomForestClassifier\n",
    "from sklearn.linear_model import LogisticRegression\n",
    "from sklearn.model_selection import cross_val_score\n",
    "from sklearn.preprocessing import StandardScaler\n",
    "import warnings\n",
    "warnings.filterwarnings('ignore')"
   ]
  },
  {
   "cell_type": "code",
   "execution_count": 3,
   "id": "532a09b8",
   "metadata": {
    "execution": {
     "iopub.execute_input": "2025-06-09T16:04:06.566755Z",
     "iopub.status.busy": "2025-06-09T16:04:06.566288Z",
     "iopub.status.idle": "2025-06-09T16:04:06.599206Z",
     "shell.execute_reply": "2025-06-09T16:04:06.598183Z"
    },
    "papermill": {
     "duration": 0.043085,
     "end_time": "2025-06-09T16:04:06.601027",
     "exception": false,
     "start_time": "2025-06-09T16:04:06.557942",
     "status": "completed"
    },
    "tags": []
   },
   "outputs": [],
   "source": [
    "# Load the data\n",
    "train = pd.read_csv('/kaggle/input/titanic/train.csv')\n",
    "test = pd.read_csv('/kaggle/input/titanic/test.csv')"
   ]
  },
  {
   "cell_type": "code",
   "execution_count": 4,
   "id": "c1faecb1",
   "metadata": {
    "execution": {
     "iopub.execute_input": "2025-06-09T16:04:06.614160Z",
     "iopub.status.busy": "2025-06-09T16:04:06.613784Z",
     "iopub.status.idle": "2025-06-09T16:04:06.644508Z",
     "shell.execute_reply": "2025-06-09T16:04:06.643254Z"
    },
    "papermill": {
     "duration": 0.039169,
     "end_time": "2025-06-09T16:04:06.646238",
     "exception": false,
     "start_time": "2025-06-09T16:04:06.607069",
     "status": "completed"
    },
    "tags": []
   },
   "outputs": [
    {
     "data": {
      "text/html": [
       "<div>\n",
       "<style scoped>\n",
       "    .dataframe tbody tr th:only-of-type {\n",
       "        vertical-align: middle;\n",
       "    }\n",
       "\n",
       "    .dataframe tbody tr th {\n",
       "        vertical-align: top;\n",
       "    }\n",
       "\n",
       "    .dataframe thead th {\n",
       "        text-align: right;\n",
       "    }\n",
       "</style>\n",
       "<table border=\"1\" class=\"dataframe\">\n",
       "  <thead>\n",
       "    <tr style=\"text-align: right;\">\n",
       "      <th></th>\n",
       "      <th>PassengerId</th>\n",
       "      <th>Survived</th>\n",
       "      <th>Pclass</th>\n",
       "      <th>Name</th>\n",
       "      <th>Sex</th>\n",
       "      <th>Age</th>\n",
       "      <th>SibSp</th>\n",
       "      <th>Parch</th>\n",
       "      <th>Ticket</th>\n",
       "      <th>Fare</th>\n",
       "      <th>Cabin</th>\n",
       "      <th>Embarked</th>\n",
       "    </tr>\n",
       "  </thead>\n",
       "  <tbody>\n",
       "    <tr>\n",
       "      <th>0</th>\n",
       "      <td>1</td>\n",
       "      <td>0</td>\n",
       "      <td>3</td>\n",
       "      <td>Braund, Mr. Owen Harris</td>\n",
       "      <td>male</td>\n",
       "      <td>22.0</td>\n",
       "      <td>1</td>\n",
       "      <td>0</td>\n",
       "      <td>A/5 21171</td>\n",
       "      <td>7.2500</td>\n",
       "      <td>NaN</td>\n",
       "      <td>S</td>\n",
       "    </tr>\n",
       "    <tr>\n",
       "      <th>1</th>\n",
       "      <td>2</td>\n",
       "      <td>1</td>\n",
       "      <td>1</td>\n",
       "      <td>Cumings, Mrs. John Bradley (Florence Briggs Th...</td>\n",
       "      <td>female</td>\n",
       "      <td>38.0</td>\n",
       "      <td>1</td>\n",
       "      <td>0</td>\n",
       "      <td>PC 17599</td>\n",
       "      <td>71.2833</td>\n",
       "      <td>C85</td>\n",
       "      <td>C</td>\n",
       "    </tr>\n",
       "    <tr>\n",
       "      <th>2</th>\n",
       "      <td>3</td>\n",
       "      <td>1</td>\n",
       "      <td>3</td>\n",
       "      <td>Heikkinen, Miss. Laina</td>\n",
       "      <td>female</td>\n",
       "      <td>26.0</td>\n",
       "      <td>0</td>\n",
       "      <td>0</td>\n",
       "      <td>STON/O2. 3101282</td>\n",
       "      <td>7.9250</td>\n",
       "      <td>NaN</td>\n",
       "      <td>S</td>\n",
       "    </tr>\n",
       "    <tr>\n",
       "      <th>3</th>\n",
       "      <td>4</td>\n",
       "      <td>1</td>\n",
       "      <td>1</td>\n",
       "      <td>Futrelle, Mrs. Jacques Heath (Lily May Peel)</td>\n",
       "      <td>female</td>\n",
       "      <td>35.0</td>\n",
       "      <td>1</td>\n",
       "      <td>0</td>\n",
       "      <td>113803</td>\n",
       "      <td>53.1000</td>\n",
       "      <td>C123</td>\n",
       "      <td>S</td>\n",
       "    </tr>\n",
       "    <tr>\n",
       "      <th>4</th>\n",
       "      <td>5</td>\n",
       "      <td>0</td>\n",
       "      <td>3</td>\n",
       "      <td>Allen, Mr. William Henry</td>\n",
       "      <td>male</td>\n",
       "      <td>35.0</td>\n",
       "      <td>0</td>\n",
       "      <td>0</td>\n",
       "      <td>373450</td>\n",
       "      <td>8.0500</td>\n",
       "      <td>NaN</td>\n",
       "      <td>S</td>\n",
       "    </tr>\n",
       "  </tbody>\n",
       "</table>\n",
       "</div>"
      ],
      "text/plain": [
       "   PassengerId  Survived  Pclass  \\\n",
       "0            1         0       3   \n",
       "1            2         1       1   \n",
       "2            3         1       3   \n",
       "3            4         1       1   \n",
       "4            5         0       3   \n",
       "\n",
       "                                                Name     Sex   Age  SibSp  \\\n",
       "0                            Braund, Mr. Owen Harris    male  22.0      1   \n",
       "1  Cumings, Mrs. John Bradley (Florence Briggs Th...  female  38.0      1   \n",
       "2                             Heikkinen, Miss. Laina  female  26.0      0   \n",
       "3       Futrelle, Mrs. Jacques Heath (Lily May Peel)  female  35.0      1   \n",
       "4                           Allen, Mr. William Henry    male  35.0      0   \n",
       "\n",
       "   Parch            Ticket     Fare Cabin Embarked  \n",
       "0      0         A/5 21171   7.2500   NaN        S  \n",
       "1      0          PC 17599  71.2833   C85        C  \n",
       "2      0  STON/O2. 3101282   7.9250   NaN        S  \n",
       "3      0            113803  53.1000  C123        S  \n",
       "4      0            373450   8.0500   NaN        S  "
      ]
     },
     "execution_count": 4,
     "metadata": {},
     "output_type": "execute_result"
    }
   ],
   "source": [
    "train.head()"
   ]
  },
  {
   "cell_type": "code",
   "execution_count": 5,
   "id": "ae64cc0d",
   "metadata": {
    "execution": {
     "iopub.execute_input": "2025-06-09T16:04:06.659737Z",
     "iopub.status.busy": "2025-06-09T16:04:06.659429Z",
     "iopub.status.idle": "2025-06-09T16:04:06.666282Z",
     "shell.execute_reply": "2025-06-09T16:04:06.664368Z"
    },
    "papermill": {
     "duration": 0.015464,
     "end_time": "2025-06-09T16:04:06.668062",
     "exception": false,
     "start_time": "2025-06-09T16:04:06.652598",
     "status": "completed"
    },
    "tags": []
   },
   "outputs": [
    {
     "data": {
      "text/plain": [
       "(891, 12)"
      ]
     },
     "execution_count": 5,
     "metadata": {},
     "output_type": "execute_result"
    }
   ],
   "source": [
    "train.shape"
   ]
  },
  {
   "cell_type": "code",
   "execution_count": 6,
   "id": "325d0074",
   "metadata": {
    "execution": {
     "iopub.execute_input": "2025-06-09T16:04:06.681366Z",
     "iopub.status.busy": "2025-06-09T16:04:06.681068Z",
     "iopub.status.idle": "2025-06-09T16:04:06.687023Z",
     "shell.execute_reply": "2025-06-09T16:04:06.686033Z"
    },
    "papermill": {
     "duration": 0.014637,
     "end_time": "2025-06-09T16:04:06.688705",
     "exception": false,
     "start_time": "2025-06-09T16:04:06.674068",
     "status": "completed"
    },
    "tags": []
   },
   "outputs": [
    {
     "data": {
      "text/plain": [
       "(418, 11)"
      ]
     },
     "execution_count": 6,
     "metadata": {},
     "output_type": "execute_result"
    }
   ],
   "source": [
    "test.shape"
   ]
  },
  {
   "cell_type": "code",
   "execution_count": 7,
   "id": "ab7aba41",
   "metadata": {
    "execution": {
     "iopub.execute_input": "2025-06-09T16:04:06.702635Z",
     "iopub.status.busy": "2025-06-09T16:04:06.702137Z",
     "iopub.status.idle": "2025-06-09T16:04:06.716030Z",
     "shell.execute_reply": "2025-06-09T16:04:06.715114Z"
    },
    "papermill": {
     "duration": 0.02216,
     "end_time": "2025-06-09T16:04:06.717526",
     "exception": false,
     "start_time": "2025-06-09T16:04:06.695366",
     "status": "completed"
    },
    "tags": []
   },
   "outputs": [
    {
     "data": {
      "text/html": [
       "<div>\n",
       "<style scoped>\n",
       "    .dataframe tbody tr th:only-of-type {\n",
       "        vertical-align: middle;\n",
       "    }\n",
       "\n",
       "    .dataframe tbody tr th {\n",
       "        vertical-align: top;\n",
       "    }\n",
       "\n",
       "    .dataframe thead th {\n",
       "        text-align: right;\n",
       "    }\n",
       "</style>\n",
       "<table border=\"1\" class=\"dataframe\">\n",
       "  <thead>\n",
       "    <tr style=\"text-align: right;\">\n",
       "      <th></th>\n",
       "      <th>PassengerId</th>\n",
       "      <th>Pclass</th>\n",
       "      <th>Name</th>\n",
       "      <th>Sex</th>\n",
       "      <th>Age</th>\n",
       "      <th>SibSp</th>\n",
       "      <th>Parch</th>\n",
       "      <th>Ticket</th>\n",
       "      <th>Fare</th>\n",
       "      <th>Cabin</th>\n",
       "      <th>Embarked</th>\n",
       "    </tr>\n",
       "  </thead>\n",
       "  <tbody>\n",
       "    <tr>\n",
       "      <th>0</th>\n",
       "      <td>892</td>\n",
       "      <td>3</td>\n",
       "      <td>Kelly, Mr. James</td>\n",
       "      <td>male</td>\n",
       "      <td>34.5</td>\n",
       "      <td>0</td>\n",
       "      <td>0</td>\n",
       "      <td>330911</td>\n",
       "      <td>7.8292</td>\n",
       "      <td>NaN</td>\n",
       "      <td>Q</td>\n",
       "    </tr>\n",
       "    <tr>\n",
       "      <th>1</th>\n",
       "      <td>893</td>\n",
       "      <td>3</td>\n",
       "      <td>Wilkes, Mrs. James (Ellen Needs)</td>\n",
       "      <td>female</td>\n",
       "      <td>47.0</td>\n",
       "      <td>1</td>\n",
       "      <td>0</td>\n",
       "      <td>363272</td>\n",
       "      <td>7.0000</td>\n",
       "      <td>NaN</td>\n",
       "      <td>S</td>\n",
       "    </tr>\n",
       "    <tr>\n",
       "      <th>2</th>\n",
       "      <td>894</td>\n",
       "      <td>2</td>\n",
       "      <td>Myles, Mr. Thomas Francis</td>\n",
       "      <td>male</td>\n",
       "      <td>62.0</td>\n",
       "      <td>0</td>\n",
       "      <td>0</td>\n",
       "      <td>240276</td>\n",
       "      <td>9.6875</td>\n",
       "      <td>NaN</td>\n",
       "      <td>Q</td>\n",
       "    </tr>\n",
       "    <tr>\n",
       "      <th>3</th>\n",
       "      <td>895</td>\n",
       "      <td>3</td>\n",
       "      <td>Wirz, Mr. Albert</td>\n",
       "      <td>male</td>\n",
       "      <td>27.0</td>\n",
       "      <td>0</td>\n",
       "      <td>0</td>\n",
       "      <td>315154</td>\n",
       "      <td>8.6625</td>\n",
       "      <td>NaN</td>\n",
       "      <td>S</td>\n",
       "    </tr>\n",
       "    <tr>\n",
       "      <th>4</th>\n",
       "      <td>896</td>\n",
       "      <td>3</td>\n",
       "      <td>Hirvonen, Mrs. Alexander (Helga E Lindqvist)</td>\n",
       "      <td>female</td>\n",
       "      <td>22.0</td>\n",
       "      <td>1</td>\n",
       "      <td>1</td>\n",
       "      <td>3101298</td>\n",
       "      <td>12.2875</td>\n",
       "      <td>NaN</td>\n",
       "      <td>S</td>\n",
       "    </tr>\n",
       "  </tbody>\n",
       "</table>\n",
       "</div>"
      ],
      "text/plain": [
       "   PassengerId  Pclass                                          Name     Sex  \\\n",
       "0          892       3                              Kelly, Mr. James    male   \n",
       "1          893       3              Wilkes, Mrs. James (Ellen Needs)  female   \n",
       "2          894       2                     Myles, Mr. Thomas Francis    male   \n",
       "3          895       3                              Wirz, Mr. Albert    male   \n",
       "4          896       3  Hirvonen, Mrs. Alexander (Helga E Lindqvist)  female   \n",
       "\n",
       "    Age  SibSp  Parch   Ticket     Fare Cabin Embarked  \n",
       "0  34.5      0      0   330911   7.8292   NaN        Q  \n",
       "1  47.0      1      0   363272   7.0000   NaN        S  \n",
       "2  62.0      0      0   240276   9.6875   NaN        Q  \n",
       "3  27.0      0      0   315154   8.6625   NaN        S  \n",
       "4  22.0      1      1  3101298  12.2875   NaN        S  "
      ]
     },
     "execution_count": 7,
     "metadata": {},
     "output_type": "execute_result"
    }
   ],
   "source": [
    "test.head()"
   ]
  },
  {
   "cell_type": "code",
   "execution_count": 8,
   "id": "3989cd55",
   "metadata": {
    "execution": {
     "iopub.execute_input": "2025-06-09T16:04:06.731100Z",
     "iopub.status.busy": "2025-06-09T16:04:06.730695Z",
     "iopub.status.idle": "2025-06-09T16:04:06.757641Z",
     "shell.execute_reply": "2025-06-09T16:04:06.756612Z"
    },
    "papermill": {
     "duration": 0.035455,
     "end_time": "2025-06-09T16:04:06.759294",
     "exception": false,
     "start_time": "2025-06-09T16:04:06.723839",
     "status": "completed"
    },
    "tags": []
   },
   "outputs": [
    {
     "name": "stdout",
     "output_type": "stream",
     "text": [
      "<class 'pandas.core.frame.DataFrame'>\n",
      "RangeIndex: 891 entries, 0 to 890\n",
      "Data columns (total 12 columns):\n",
      " #   Column       Non-Null Count  Dtype  \n",
      "---  ------       --------------  -----  \n",
      " 0   PassengerId  891 non-null    int64  \n",
      " 1   Survived     891 non-null    int64  \n",
      " 2   Pclass       891 non-null    int64  \n",
      " 3   Name         891 non-null    object \n",
      " 4   Sex          891 non-null    object \n",
      " 5   Age          714 non-null    float64\n",
      " 6   SibSp        891 non-null    int64  \n",
      " 7   Parch        891 non-null    int64  \n",
      " 8   Ticket       891 non-null    object \n",
      " 9   Fare         891 non-null    float64\n",
      " 10  Cabin        204 non-null    object \n",
      " 11  Embarked     889 non-null    object \n",
      "dtypes: float64(2), int64(5), object(5)\n",
      "memory usage: 83.7+ KB\n"
     ]
    }
   ],
   "source": [
    "train.info()"
   ]
  },
  {
   "cell_type": "code",
   "execution_count": 9,
   "id": "21383298",
   "metadata": {
    "execution": {
     "iopub.execute_input": "2025-06-09T16:04:06.773102Z",
     "iopub.status.busy": "2025-06-09T16:04:06.772751Z",
     "iopub.status.idle": "2025-06-09T16:04:06.780564Z",
     "shell.execute_reply": "2025-06-09T16:04:06.779778Z"
    },
    "papermill": {
     "duration": 0.016571,
     "end_time": "2025-06-09T16:04:06.782044",
     "exception": false,
     "start_time": "2025-06-09T16:04:06.765473",
     "status": "completed"
    },
    "tags": []
   },
   "outputs": [
    {
     "data": {
      "text/plain": [
       "PassengerId      0\n",
       "Survived         0\n",
       "Pclass           0\n",
       "Name             0\n",
       "Sex              0\n",
       "Age            177\n",
       "SibSp            0\n",
       "Parch            0\n",
       "Ticket           0\n",
       "Fare             0\n",
       "Cabin          687\n",
       "Embarked         2\n",
       "dtype: int64"
      ]
     },
     "execution_count": 9,
     "metadata": {},
     "output_type": "execute_result"
    }
   ],
   "source": [
    "train.isnull().sum()"
   ]
  },
  {
   "cell_type": "code",
   "execution_count": 10,
   "id": "9f1f1ead",
   "metadata": {
    "execution": {
     "iopub.execute_input": "2025-06-09T16:04:06.795726Z",
     "iopub.status.busy": "2025-06-09T16:04:06.795400Z",
     "iopub.status.idle": "2025-06-09T16:04:06.805821Z",
     "shell.execute_reply": "2025-06-09T16:04:06.805054Z"
    },
    "papermill": {
     "duration": 0.019164,
     "end_time": "2025-06-09T16:04:06.807374",
     "exception": false,
     "start_time": "2025-06-09T16:04:06.788210",
     "status": "completed"
    },
    "tags": []
   },
   "outputs": [
    {
     "data": {
      "text/plain": [
       "Survived\n",
       "0    549\n",
       "1    342\n",
       "Name: count, dtype: int64"
      ]
     },
     "execution_count": 10,
     "metadata": {},
     "output_type": "execute_result"
    }
   ],
   "source": [
    "train['Survived'].value_counts()"
   ]
  },
  {
   "cell_type": "code",
   "execution_count": 11,
   "id": "bd250879",
   "metadata": {
    "execution": {
     "iopub.execute_input": "2025-06-09T16:04:06.821629Z",
     "iopub.status.busy": "2025-06-09T16:04:06.821339Z",
     "iopub.status.idle": "2025-06-09T16:04:06.826623Z",
     "shell.execute_reply": "2025-06-09T16:04:06.825461Z"
    },
    "papermill": {
     "duration": 0.013933,
     "end_time": "2025-06-09T16:04:06.828217",
     "exception": false,
     "start_time": "2025-06-09T16:04:06.814284",
     "status": "completed"
    },
    "tags": []
   },
   "outputs": [
    {
     "name": "stdout",
     "output_type": "stream",
     "text": [
      "Survival Rate: 38.38%\n"
     ]
    }
   ],
   "source": [
    "print(f\"Survival Rate: {train['Survived'].mean():.2%}\")"
   ]
  },
  {
   "cell_type": "code",
   "execution_count": 12,
   "id": "779454a3",
   "metadata": {
    "execution": {
     "iopub.execute_input": "2025-06-09T16:04:06.843137Z",
     "iopub.status.busy": "2025-06-09T16:04:06.842812Z",
     "iopub.status.idle": "2025-06-09T16:04:07.197500Z",
     "shell.execute_reply": "2025-06-09T16:04:07.196529Z"
    },
    "papermill": {
     "duration": 0.364372,
     "end_time": "2025-06-09T16:04:07.199293",
     "exception": false,
     "start_time": "2025-06-09T16:04:06.834921",
     "status": "completed"
    },
    "tags": []
   },
   "outputs": [
    {
     "data": {
      "text/plain": [
       "Text(0.5, 1.0, 'Survival by Gender')"
      ]
     },
     "execution_count": 12,
     "metadata": {},
     "output_type": "execute_result"
    },
    {
     "data": {
      "image/png": "[encoded data removed]",
      "text/plain": [
       "<Figure size 1500x1200 with 1 Axes>"
      ]
     },
     "metadata": {},
     "output_type": "display_data"
    }
   ],
   "source": [
    "plt.figure(figsize=(15, 12))\n",
    "plt.subplot(2,3,1)\n",
    "sns.countplot(data=train, x='Sex', hue='Survived')\n",
    "plt.title('Survival by Gender')\n"
   ]
  },
  {
   "cell_type": "code",
   "execution_count": 13,
   "id": "7b0f1254",
   "metadata": {
    "execution": {
     "iopub.execute_input": "2025-06-09T16:04:07.215059Z",
     "iopub.status.busy": "2025-06-09T16:04:07.214697Z",
     "iopub.status.idle": "2025-06-09T16:04:07.222573Z",
     "shell.execute_reply": "2025-06-09T16:04:07.221645Z"
    },
    "papermill": {
     "duration": 0.017643,
     "end_time": "2025-06-09T16:04:07.224306",
     "exception": false,
     "start_time": "2025-06-09T16:04:07.206663",
     "status": "completed"
    },
    "tags": []
   },
   "outputs": [
    {
     "data": {
      "text/plain": [
       "Pclass\n",
       "3    491\n",
       "1    216\n",
       "2    184\n",
       "Name: count, dtype: int64"
      ]
     },
     "execution_count": 13,
     "metadata": {},
     "output_type": "execute_result"
    }
   ],
   "source": [
    "train['Pclass'].value_counts()"
   ]
  },
  {
   "cell_type": "code",
   "execution_count": 14,
   "id": "11b00f42",
   "metadata": {
    "execution": {
     "iopub.execute_input": "2025-06-09T16:04:07.241013Z",
     "iopub.status.busy": "2025-06-09T16:04:07.240659Z",
     "iopub.status.idle": "2025-06-09T16:04:07.441435Z",
     "shell.execute_reply": "2025-06-09T16:04:07.440269Z"
    },
    "papermill": {
     "duration": 0.21142,
     "end_time": "2025-06-09T16:04:07.443098",
     "exception": false,
     "start_time": "2025-06-09T16:04:07.231678",
     "status": "completed"
    },
    "tags": []
   },
   "outputs": [
    {
     "data": {
      "text/plain": [
       "<Axes: xlabel='Pclass', ylabel='count'>"
      ]
     },
     "execution_count": 14,
     "metadata": {},
     "output_type": "execute_result"
    },
    {
     "data": {
      "image/png": "[encoded data removed]",
      "text/plain": [
       "<Figure size 1500x1200 with 1 Axes>"
      ]
     },
     "metadata": {},
     "output_type": "display_data"
    }
   ],
   "source": [
    "plt.figure(figsize=(15, 12))\n",
    "plt.subplot(2,3,2)\n",
    "sns.countplot(data=train, x='Pclass', hue='Survived')"
   ]
  },
  {
   "cell_type": "code",
   "execution_count": 15,
   "id": "e8273ee5",
   "metadata": {
    "execution": {
     "iopub.execute_input": "2025-06-09T16:04:07.458936Z",
     "iopub.status.busy": "2025-06-09T16:04:07.458595Z",
     "iopub.status.idle": "2025-06-09T16:04:07.864275Z",
     "shell.execute_reply": "2025-06-09T16:04:07.863174Z"
    },
    "papermill": {
     "duration": 0.415823,
     "end_time": "2025-06-09T16:04:07.866226",
     "exception": false,
     "start_time": "2025-06-09T16:04:07.450403",
     "status": "completed"
    },
    "tags": []
   },
   "outputs": [
    {
     "data": {
      "text/plain": [
       "Text(0.5, 1.0, 'Age Distribution by Survival')"
      ]
     },
     "execution_count": 15,
     "metadata": {},
     "output_type": "execute_result"
    },
    {
     "data": {
      "image/png": "[encoded data removed]",
      "text/plain": [
       "<Figure size 1500x1200 with 1 Axes>"
      ]
     },
     "metadata": {},
     "output_type": "display_data"
    }
   ],
   "source": [
    "plt.figure(figsize=(15, 12))\n",
    "plt.subplot(2, 3, 3)\n",
    "train[train['Survived']==1]['Age'].hist(alpha=0.7, label='Survived', bins=30)\n",
    "train[train['Survived']==0]['Age'].hist(alpha=0.7, label='Did not survive', bins=30)\n",
    "plt.legend()\n",
    "plt.title('Age Distribution by Survival')"
   ]
  },
  {
   "cell_type": "code",
   "execution_count": 16,
   "id": "038e42f5",
   "metadata": {
    "execution": {
     "iopub.execute_input": "2025-06-09T16:04:07.883373Z",
     "iopub.status.busy": "2025-06-09T16:04:07.883039Z",
     "iopub.status.idle": "2025-06-09T16:04:08.125763Z",
     "shell.execute_reply": "2025-06-09T16:04:08.124644Z"
    },
    "papermill": {
     "duration": 0.253348,
     "end_time": "2025-06-09T16:04:08.127626",
     "exception": false,
     "start_time": "2025-06-09T16:04:07.874278",
     "status": "completed"
    },
    "tags": []
   },
   "outputs": [
    {
     "data": {
      "text/plain": [
       "Text(0.5, 1.0, 'Survival by Port of Embarkation')"
      ]
     },
     "execution_count": 16,
     "metadata": {},
     "output_type": "execute_result"
    },
    {
     "data": {
      "image/png": "[encoded data removed]",
      "text/plain": [
       "<Figure size 1500x1200 with 1 Axes>"
      ]
     },
     "metadata": {},
     "output_type": "display_data"
    }
   ],
   "source": [
    "plt.figure(figsize=(15, 12))\n",
    "plt.subplot(2, 3, 4)\n",
    "sns.countplot(data=train, x='Embarked', hue='Survived')\n",
    "plt.title('Survival by Port of Embarkation')"
   ]
  },
  {
   "cell_type": "code",
   "execution_count": 17,
   "id": "c2cf0198",
   "metadata": {
    "execution": {
     "iopub.execute_input": "2025-06-09T16:04:08.145605Z",
     "iopub.status.busy": "2025-06-09T16:04:08.145321Z",
     "iopub.status.idle": "2025-06-09T16:04:08.487673Z",
     "shell.execute_reply": "2025-06-09T16:04:08.486405Z"
    },
    "papermill": {
     "duration": 0.353373,
     "end_time": "2025-06-09T16:04:08.489487",
     "exception": false,
     "start_time": "2025-06-09T16:04:08.136114",
     "status": "completed"
    },
    "tags": []
   },
   "outputs": [
    {
     "data": {
      "text/plain": [
       "Text(0.5, 0, 'Fare')"
      ]
     },
     "execution_count": 17,
     "metadata": {},
     "output_type": "execute_result"
    },
    {
     "data": {
      "image/png": "[encoded data removed]",
      "text/plain": [
       "<Figure size 1500x1200 with 1 Axes>"
      ]
     },
     "metadata": {},
     "output_type": "display_data"
    }
   ],
   "source": [
    "\n",
    "plt.figure(figsize=(15, 12))\n",
    "plt.subplot(2, 3, 5)\n",
    "train[train['Survived']==1]['Fare'].hist(alpha=0.7, label='Survived', bins=30)\n",
    "train[train['Survived']==0]['Fare'].hist(alpha=0.7, label='Did not survive', bins=30)\n",
    "plt.legend()\n",
    "plt.title('Fare Distribution by Survival')\n",
    "plt.xlabel('Fare')"
   ]
  },
  {
   "cell_type": "code",
   "execution_count": 18,
   "id": "c8e78da6",
   "metadata": {
    "execution": {
     "iopub.execute_input": "2025-06-09T16:04:08.507844Z",
     "iopub.status.busy": "2025-06-09T16:04:08.507556Z",
     "iopub.status.idle": "2025-06-09T16:04:08.789165Z",
     "shell.execute_reply": "2025-06-09T16:04:08.788230Z"
    },
    "papermill": {
     "duration": 0.292774,
     "end_time": "2025-06-09T16:04:08.790807",
     "exception": false,
     "start_time": "2025-06-09T16:04:08.498033",
     "status": "completed"
    },
    "tags": []
   },
   "outputs": [
    {
     "data": {
      "text/plain": [
       "Text(0.5, 1.0, 'Survival by Family Size')"
      ]
     },
     "execution_count": 18,
     "metadata": {},
     "output_type": "execute_result"
    },
    {
     "data": {
      "image/png": "[encoded data removed]",
      "text/plain": [
       "<Figure size 1500x1200 with 1 Axes>"
      ]
     },
     "metadata": {},
     "output_type": "display_data"
    }
   ],
   "source": [
    "plt.figure(figsize=(15, 12))\n",
    "plt.subplot(2, 3, 6)\n",
    "train['FamilySize'] = train['SibSp'] + train['Parch'] + 1\n",
    "sns.countplot(data=train, x='FamilySize', hue='Survived')\n",
    "plt.title('Survival by Family Size')"
   ]
  },
  {
   "cell_type": "code",
   "execution_count": 19,
   "id": "5c45fc10",
   "metadata": {
    "execution": {
     "iopub.execute_input": "2025-06-09T16:04:08.810369Z",
     "iopub.status.busy": "2025-06-09T16:04:08.810048Z",
     "iopub.status.idle": "2025-06-09T16:04:10.407339Z",
     "shell.execute_reply": "2025-06-09T16:04:10.406364Z"
    },
    "papermill": {
     "duration": 1.609525,
     "end_time": "2025-06-09T16:04:10.409418",
     "exception": false,
     "start_time": "2025-06-09T16:04:08.799893",
     "status": "completed"
    },
    "tags": []
   },
   "outputs": [
    {
     "data": {
      "image/png": "[encoded data removed]",
      "text/plain": [
       "<Figure size 1500x1200 with 6 Axes>"
      ]
     },
     "metadata": {},
     "output_type": "display_data"
    }
   ],
   "source": [
    "plt.figure(figsize=(15, 12))\n",
    "\n",
    "# Survival by Gender\n",
    "plt.subplot(2, 3, 1)\n",
    "sns.countplot(data=train, x='Sex', hue='Survived')\n",
    "plt.title('Survival by Gender')\n",
    "\n",
    "# Survival by Class\n",
    "plt.subplot(2, 3, 2)\n",
    "sns.countplot(data=train, x='Pclass', hue='Survived')\n",
    "plt.title('Survival by Passenger Class')\n",
    "\n",
    "# Age Distribution\n",
    "plt.subplot(2, 3, 3)\n",
    "train[train['Survived']==1]['Age'].hist(alpha=0.7, label='Survived', bins=30)\n",
    "train[train['Survived']==0]['Age'].hist(alpha=0.7, label='Did not survive', bins=30)\n",
    "plt.legend()\n",
    "plt.title('Age Distribution by Survival')\n",
    "plt.xlabel('Age')\n",
    "\n",
    "# Survival by Embarked\n",
    "plt.subplot(2, 3, 4)\n",
    "sns.countplot(data=train, x='Embarked', hue='Survived')\n",
    "plt.title('Survival by Port of Embarkation')\n",
    "\n",
    "# Fare Distribution\n",
    "plt.subplot(2, 3, 5)\n",
    "train[train['Survived']==1]['Fare'].hist(alpha=0.7, label='Survived', bins=30)\n",
    "train[train['Survived']==0]['Fare'].hist(alpha=0.7, label='Did not survive', bins=30)\n",
    "plt.legend()\n",
    "plt.title('Fare Distribution by Survival')\n",
    "plt.xlabel('Fare')\n",
    "\n",
    "# Family Size vs Survival\n",
    "plt.subplot(2, 3, 6)\n",
    "train['FamilySize'] = train['SibSp'] + train['Parch'] + 1\n",
    "sns.countplot(data=train, x='FamilySize', hue='Survived')\n",
    "plt.title('Survival by Family Size')\n",
    "\n",
    "plt.tight_layout()\n",
    "plt.show()"
   ]
  },
  {
   "cell_type": "code",
   "execution_count": 20,
   "id": "1123cdbb",
   "metadata": {
    "execution": {
     "iopub.execute_input": "2025-06-09T16:04:10.432562Z",
     "iopub.status.busy": "2025-06-09T16:04:10.432234Z",
     "iopub.status.idle": "2025-06-09T16:04:10.452198Z",
     "shell.execute_reply": "2025-06-09T16:04:10.450872Z"
    },
    "papermill": {
     "duration": 0.033342,
     "end_time": "2025-06-09T16:04:10.454021",
     "exception": false,
     "start_time": "2025-06-09T16:04:10.420679",
     "status": "completed"
    },
    "tags": []
   },
   "outputs": [
    {
     "name": "stdout",
     "output_type": "stream",
     "text": [
      "\n",
      "==================================================\n",
      "SURVIVAL RATES BY FEATURES\n",
      "==================================================\n",
      "By Gender:\n",
      "        count   mean\n",
      "Sex                 \n",
      "female    314  0.742\n",
      "male      577  0.189\n",
      "\n",
      "By Passenger Class:\n",
      "        count   mean\n",
      "Pclass              \n",
      "1         216  0.630\n",
      "2         184  0.473\n",
      "3         491  0.242\n",
      "\n",
      "By Port of Embarkation:\n",
      "          count   mean\n",
      "Embarked              \n",
      "C           168  0.554\n",
      "Q            77  0.390\n",
      "S           644  0.337\n"
     ]
    }
   ],
   "source": [
    "\n",
    "# Print survival rates by key features\n",
    "print(\"\\n\" + \"=\"*50)\n",
    "print(\"SURVIVAL RATES BY FEATURES\")\n",
    "print(\"=\"*50)\n",
    "\n",
    "print(\"By Gender:\")\n",
    "print(train.groupby('Sex')['Survived'].agg(['count', 'mean']).round(3))\n",
    "\n",
    "print(\"\\nBy Passenger Class:\")\n",
    "print(train.groupby('Pclass')['Survived'].agg(['count', 'mean']).round(3))\n",
    "\n",
    "print(\"\\nBy Port of Embarkation:\")\n",
    "print(train.groupby('Embarked')['Survived'].agg(['count', 'mean']).round(3))\n"
   ]
  },
  {
   "cell_type": "code",
   "execution_count": 21,
   "id": "b1a2b771",
   "metadata": {
    "execution": {
     "iopub.execute_input": "2025-06-09T16:04:10.477197Z",
     "iopub.status.busy": "2025-06-09T16:04:10.476804Z",
     "iopub.status.idle": "2025-06-09T16:04:10.515924Z",
     "shell.execute_reply": "2025-06-09T16:04:10.514856Z"
    },
    "papermill": {
     "duration": 0.053767,
     "end_time": "2025-06-09T16:04:10.518079",
     "exception": false,
     "start_time": "2025-06-09T16:04:10.464312",
     "status": "completed"
    },
    "tags": []
   },
   "outputs": [],
   "source": [
    "def create_features(df):\n",
    "    \"\"\"Create new features for both train and test sets\"\"\"\n",
    "    df = df.copy()\n",
    "    \n",
    "    # Family size\n",
    "    df['FamilySize'] = df['SibSp'] + df['Parch'] + 1\n",
    "    \n",
    "    # Is alone\n",
    "    df['IsAlone'] = (df['FamilySize'] == 1).astype(int)\n",
    "    \n",
    "    # Title extraction from Name\n",
    "    df['Title'] = df['Name'].str.extract(' ([A-Za-z]+)\\.', expand=False)\n",
    "    df['Title'] = df['Title'].replace(['Lady', 'Countess','Capt', 'Col',\n",
    "                                     'Don', 'Dr', 'Major', 'Rev', 'Sir', 'Jonkheer', 'Dona'], 'Rare')\n",
    "    df['Title'] = df['Title'].replace('Mlle', 'Miss')\n",
    "    df['Title'] = df['Title'].replace('Ms', 'Miss')\n",
    "    df['Title'] = df['Title'].replace('Mme', 'Mrs')\n",
    "    \n",
    "    # Age groups\n",
    "    df['AgeGroup'] = pd.cut(df['Age'], bins=[0, 12, 18, 35, 60, 100], \n",
    "                           labels=['Child', 'Teen', 'Adult', 'Middle', 'Senior'])\n",
    "    \n",
    "    # Fare groups\n",
    "    df['FareGroup'] = pd.qcut(df['Fare'], q=4, labels=['Low', 'Medium', 'High', 'Very High'])\n",
    "    \n",
    "    return df\n",
    "\n",
    "# Apply feature engineering\n",
    "train_fe = create_features(train)\n",
    "test_fe = create_features(test)"
   ]
  },
  {
   "cell_type": "code",
   "execution_count": 22,
   "id": "b8b39e7a",
   "metadata": {
    "execution": {
     "iopub.execute_input": "2025-06-09T16:04:10.541496Z",
     "iopub.status.busy": "2025-06-09T16:04:10.541186Z",
     "iopub.status.idle": "2025-06-09T16:04:10.550402Z",
     "shell.execute_reply": "2025-06-09T16:04:10.548670Z"
    },
    "papermill": {
     "duration": 0.023327,
     "end_time": "2025-06-09T16:04:10.552362",
     "exception": false,
     "start_time": "2025-06-09T16:04:10.529035",
     "status": "completed"
    },
    "tags": []
   },
   "outputs": [
    {
     "name": "stdout",
     "output_type": "stream",
     "text": [
      "NEW FEATURES CREATED\n",
      "==================================================\n",
      "Family Size, IsAlone, Title, Age Group, Fare Group\n",
      "\n",
      "Title distribution:\n",
      "Title\n",
      "Mr        517\n",
      "Miss      185\n",
      "Mrs       126\n",
      "Master     40\n",
      "Rare       23\n",
      "Name: count, dtype: int64\n"
     ]
    }
   ],
   "source": [
    "print(\"NEW FEATURES CREATED\")\n",
    "print(\"=\"*50)\n",
    "print(\"Family Size, IsAlone, Title, Age Group, Fare Group\")\n",
    "print(\"\\nTitle distribution:\")\n",
    "print(train_fe['Title'].value_counts())"
   ]
  },
  {
   "cell_type": "code",
   "execution_count": 23,
   "id": "bac994d4",
   "metadata": {
    "execution": {
     "iopub.execute_input": "2025-06-09T16:04:10.575921Z",
     "iopub.status.busy": "2025-06-09T16:04:10.575289Z",
     "iopub.status.idle": "2025-06-09T16:04:10.613536Z",
     "shell.execute_reply": "2025-06-09T16:04:10.612517Z"
    },
    "papermill": {
     "duration": 0.051916,
     "end_time": "2025-06-09T16:04:10.615428",
     "exception": false,
     "start_time": "2025-06-09T16:04:10.563512",
     "status": "completed"
    },
    "tags": []
   },
   "outputs": [],
   "source": [
    "def preprocess_data(train_df, test_df):\n",
    "    \"\"\"Preprocess data for modeling\"\"\"\n",
    "    \n",
    "    # Combine for consistent preprocessing\n",
    "    combined = pd.concat([train_df, test_df], sort=False).reset_index(drop=True)\n",
    "    \n",
    "    # Handle missing values\n",
    "    # Age: fill with median by Title and Pclass\n",
    "    combined['Age'] = combined.groupby(['Title', 'Pclass'])['Age'].transform(\n",
    "        lambda x: x.fillna(x.median()))\n",
    "    \n",
    "    # Embarked: fill with mode\n",
    "    combined['Embarked'] = combined['Embarked'].fillna(combined['Embarked'].mode()[0])\n",
    "    \n",
    "    # Fare: fill with median by Pclass\n",
    "    combined['Fare'] = combined.groupby('Pclass')['Fare'].transform(\n",
    "        lambda x: x.fillna(x.median()))\n",
    "    \n",
    "    # Recreate categorical features after filling missing values\n",
    "    combined['AgeGroup'] = pd.cut(combined['Age'], bins=[0, 12, 18, 35, 60, 100], \n",
    "                                 labels=['Child', 'Teen', 'Adult', 'Middle', 'Senior'])\n",
    "    combined['FareGroup'] = pd.qcut(combined['Fare'], q=4, labels=['Low', 'Medium', 'High', 'Very High'])\n",
    "    \n",
    "    # Select features for modeling\n",
    "    features = ['Pclass', 'Sex', 'Age', 'SibSp', 'Parch', 'Fare', 'Embarked', \n",
    "               'FamilySize', 'IsAlone', 'Title', 'AgeGroup', 'FareGroup']\n",
    "    \n",
    "    # One-hot encode categorical variables\n",
    "    combined_encoded = pd.get_dummies(combined[features], prefix_sep='_')\n",
    "    \n",
    "    # Split back into train and test\n",
    "    train_processed = combined_encoded[:len(train_df)]\n",
    "    test_processed = combined_encoded[len(train_df):]\n",
    "    \n",
    "    return train_processed, test_processed\n",
    "\n",
    "# Preprocess the data\n",
    "X_train, X_test = preprocess_data(train_fe, test_fe)\n",
    "y_train = train['Survived']"
   ]
  },
  {
   "cell_type": "code",
   "execution_count": 24,
   "id": "dc2cf7a1",
   "metadata": {
    "execution": {
     "iopub.execute_input": "2025-06-09T16:04:10.638792Z",
     "iopub.status.busy": "2025-06-09T16:04:10.638278Z",
     "iopub.status.idle": "2025-06-09T16:04:10.644051Z",
     "shell.execute_reply": "2025-06-09T16:04:10.643064Z"
    },
    "papermill": {
     "duration": 0.01946,
     "end_time": "2025-06-09T16:04:10.645739",
     "exception": false,
     "start_time": "2025-06-09T16:04:10.626279",
     "status": "completed"
    },
    "tags": []
   },
   "outputs": [
    {
     "name": "stdout",
     "output_type": "stream",
     "text": [
      "Processed test set shape: (418, 26)\n",
      "Features: ['Pclass', 'Age', 'SibSp', 'Parch', 'Fare', 'FamilySize', 'IsAlone', 'Sex_female', 'Sex_male', 'Embarked_C', 'Embarked_Q', 'Embarked_S', 'Title_Master', 'Title_Miss', 'Title_Mr', 'Title_Mrs', 'Title_Rare', 'AgeGroup_Child', 'AgeGroup_Teen', 'AgeGroup_Adult', 'AgeGroup_Middle', 'AgeGroup_Senior', 'FareGroup_Low', 'FareGroup_Medium', 'FareGroup_High', 'FareGroup_Very High']\n"
     ]
    }
   ],
   "source": [
    "print(f\"Processed test set shape: {X_test.shape}\")\n",
    "print(f\"Features: {list(X_train.columns)}\")"
   ]
  },
  {
   "cell_type": "code",
   "execution_count": 25,
   "id": "c348ef4a",
   "metadata": {
    "execution": {
     "iopub.execute_input": "2025-06-09T16:04:10.668722Z",
     "iopub.status.busy": "2025-06-09T16:04:10.668396Z",
     "iopub.status.idle": "2025-06-09T16:04:10.673406Z",
     "shell.execute_reply": "2025-06-09T16:04:10.672362Z"
    },
    "papermill": {
     "duration": 0.018322,
     "end_time": "2025-06-09T16:04:10.675073",
     "exception": false,
     "start_time": "2025-06-09T16:04:10.656751",
     "status": "completed"
    },
    "tags": []
   },
   "outputs": [],
   "source": [
    "models = {\n",
    "    'Logistic Regression': LogisticRegression(random_state=42, max_iter=1000),\n",
    "    'Random Forest': RandomForestClassifier(n_estimators=100, random_state=42)\n",
    "}"
   ]
  },
  {
   "cell_type": "code",
   "execution_count": 26,
   "id": "50795870",
   "metadata": {
    "execution": {
     "iopub.execute_input": "2025-06-09T16:04:10.698556Z",
     "iopub.status.busy": "2025-06-09T16:04:10.698232Z",
     "iopub.status.idle": "2025-06-09T16:04:31.739379Z",
     "shell.execute_reply": "2025-06-09T16:04:31.738197Z"
    },
    "papermill": {
     "duration": 21.055237,
     "end_time": "2025-06-09T16:04:31.741298",
     "exception": false,
     "start_time": "2025-06-09T16:04:10.686061",
     "status": "completed"
    },
    "tags": []
   },
   "outputs": [
    {
     "name": "stdout",
     "output_type": "stream",
     "text": [
      "\n",
      "Logistic Regression:\n",
      "CV Accuracy: 0.8272 (+/- 0.0380)\n",
      "Training Accuracy: 0.8339\n",
      "\n",
      "Random Forest:\n",
      "CV Accuracy: 0.8002 (+/- 0.0483)\n",
      "Training Accuracy: 0.9832\n"
     ]
    }
   ],
   "source": [
    "# Train and evaluate models\n",
    "results = {}\n",
    "for name, model in models.items():\n",
    "    # Cross-validation scores\n",
    "    cv_scores = cross_val_score(model, X_train, y_train, cv=5, scoring='accuracy')\n",
    "    results[name] = cv_scores\n",
    "    \n",
    "    print(f\"\\n{name}:\")\n",
    "    print(f\"CV Accuracy: {cv_scores.mean():.4f} (+/- {cv_scores.std() * 2:.4f})\")\n",
    "    \n",
    "    # Train on full dataset\n",
    "    model.fit(X_train, y_train)\n",
    "    train_accuracy = model.score(X_train, y_train)\n",
    "    print(f\"Training Accuracy: {train_accuracy:.4f}\")\n"
   ]
  },
  {
   "cell_type": "code",
   "execution_count": 27,
   "id": "89621122",
   "metadata": {
    "execution": {
     "iopub.execute_input": "2025-06-09T16:04:31.770059Z",
     "iopub.status.busy": "2025-06-09T16:04:31.769632Z",
     "iopub.status.idle": "2025-06-09T16:04:31.789257Z",
     "shell.execute_reply": "2025-06-09T16:04:31.788317Z"
    },
    "papermill": {
     "duration": 0.033053,
     "end_time": "2025-06-09T16:04:31.790663",
     "exception": false,
     "start_time": "2025-06-09T16:04:31.757610",
     "status": "completed"
    },
    "tags": []
   },
   "outputs": [
    {
     "name": "stdout",
     "output_type": "stream",
     "text": [
      "\n",
      "==================================================\n",
      "TOP 10 MOST IMPORTANT FEATURES\n",
      "==================================================\n",
      "       feature  importance\n",
      "4         Fare    0.189435\n",
      "1          Age    0.177349\n",
      "14    Title_Mr    0.098119\n",
      "7   Sex_female    0.085506\n",
      "8     Sex_male    0.081369\n",
      "0       Pclass    0.067349\n",
      "5   FamilySize    0.050540\n",
      "2        SibSp    0.031871\n",
      "15   Title_Mrs    0.026366\n",
      "13  Title_Miss    0.021622\n"
     ]
    }
   ],
   "source": [
    "\n",
    "# Get feature importance from Random Forest\n",
    "rf_model = models['Random Forest']\n",
    "feature_importance = pd.DataFrame({\n",
    "    'feature': X_train.columns,\n",
    "    'importance': rf_model.feature_importances_\n",
    "}).sort_values('importance', ascending=False)\n",
    "\n",
    "print(\"\\n\" + \"=\"*50)\n",
    "print(\"TOP 10 MOST IMPORTANT FEATURES\")\n",
    "print(\"=\"*50)\n",
    "print(feature_importance.head(10))\n"
   ]
  },
  {
   "cell_type": "code",
   "execution_count": 28,
   "id": "9fa8799f",
   "metadata": {
    "execution": {
     "iopub.execute_input": "2025-06-09T16:04:31.816559Z",
     "iopub.status.busy": "2025-06-09T16:04:31.816255Z",
     "iopub.status.idle": "2025-06-09T16:04:32.125312Z",
     "shell.execute_reply": "2025-06-09T16:04:32.124305Z"
    },
    "papermill": {
     "duration": 0.325922,
     "end_time": "2025-06-09T16:04:32.127545",
     "exception": false,
     "start_time": "2025-06-09T16:04:31.801623",
     "status": "completed"
    },
    "tags": []
   },
   "outputs": [
    {
     "data": {
      "image/png": "[encoded data removed]",
      "text/plain": [
       "<Figure size 1000x800 with 1 Axes>"
      ]
     },
     "metadata": {},
     "output_type": "display_data"
    }
   ],
   "source": [
    "plt.figure(figsize=(10, 8))\n",
    "sns.barplot(data=feature_importance.head(15), x='importance', y='feature')\n",
    "plt.title('Feature Importance (Random Forest)')\n",
    "plt.xlabel('Importance')\n",
    "plt.tight_layout()\n",
    "plt.show()\n"
   ]
  },
  {
   "cell_type": "code",
   "execution_count": 29,
   "id": "af4b8d36",
   "metadata": {
    "execution": {
     "iopub.execute_input": "2025-06-09T16:04:32.152957Z",
     "iopub.status.busy": "2025-06-09T16:04:32.152644Z",
     "iopub.status.idle": "2025-06-09T16:04:32.171887Z",
     "shell.execute_reply": "2025-06-09T16:04:32.170929Z"
    },
    "papermill": {
     "duration": 0.033973,
     "end_time": "2025-06-09T16:04:32.173693",
     "exception": false,
     "start_time": "2025-06-09T16:04:32.139720",
     "status": "completed"
    },
    "tags": []
   },
   "outputs": [],
   "source": [
    "# Use the best performing model (or Random Forest as default)\n",
    "best_model = models['Random Forest']  # You can change this based on CV results\n",
    "\n",
    "# Make predictions\n",
    "predictions = best_model.predict(X_test)"
   ]
  },
  {
   "cell_type": "code",
   "execution_count": 30,
   "id": "2f62dced",
   "metadata": {
    "execution": {
     "iopub.execute_input": "2025-06-09T16:04:32.200195Z",
     "iopub.status.busy": "2025-06-09T16:04:32.199879Z",
     "iopub.status.idle": "2025-06-09T16:04:32.205933Z",
     "shell.execute_reply": "2025-06-09T16:04:32.204775Z"
    },
    "papermill": {
     "duration": 0.021075,
     "end_time": "2025-06-09T16:04:32.207631",
     "exception": false,
     "start_time": "2025-06-09T16:04:32.186556",
     "status": "completed"
    },
    "tags": []
   },
   "outputs": [],
   "source": [
    "# Create submission file\n",
    "submission = pd.DataFrame({\n",
    "    'PassengerId': test['PassengerId'],\n",
    "    'Survived': predictions\n",
    "})"
   ]
  },
  {
   "cell_type": "code",
   "execution_count": 31,
   "id": "cdd47bb1",
   "metadata": {
    "execution": {
     "iopub.execute_input": "2025-06-09T16:04:32.232827Z",
     "iopub.status.busy": "2025-06-09T16:04:32.232507Z",
     "iopub.status.idle": "2025-06-09T16:04:32.239759Z",
     "shell.execute_reply": "2025-06-09T16:04:32.238532Z"
    },
    "papermill": {
     "duration": 0.021902,
     "end_time": "2025-06-09T16:04:32.241532",
     "exception": false,
     "start_time": "2025-06-09T16:04:32.219630",
     "status": "completed"
    },
    "tags": []
   },
   "outputs": [
    {
     "name": "stdout",
     "output_type": "stream",
     "text": [
      "\n",
      "==================================================\n",
      "PREDICTIONS READY\n",
      "==================================================\n",
      "Submission shape: (418, 2)\n",
      "Predicted survival rate: 40.19%\n",
      "\n",
      "First few predictions:\n",
      "   PassengerId  Survived\n",
      "0          892         0\n",
      "1          893         0\n",
      "2          894         0\n",
      "3          895         1\n",
      "4          896         0\n",
      "5          897         0\n",
      "6          898         0\n",
      "7          899         0\n",
      "8          900         1\n",
      "9          901         0\n"
     ]
    }
   ],
   "source": [
    "print(\"\\n\" + \"=\"*50)\n",
    "print(\"PREDICTIONS READY\")\n",
    "print(\"=\"*50)\n",
    "print(f\"Submission shape: {submission.shape}\")\n",
    "print(f\"Predicted survival rate: {predictions.mean():.2%}\")\n",
    "print(\"\\nFirst few predictions:\")\n",
    "print(submission.head(10))"
   ]
  },
  {
   "cell_type": "code",
   "execution_count": 32,
   "id": "0833178a",
   "metadata": {
    "execution": {
     "iopub.execute_input": "2025-06-09T16:04:32.332967Z",
     "iopub.status.busy": "2025-06-09T16:04:32.332626Z",
     "iopub.status.idle": "2025-06-09T16:04:32.344500Z",
     "shell.execute_reply": "2025-06-09T16:04:32.343578Z"
    },
    "papermill": {
     "duration": 0.092785,
     "end_time": "2025-06-09T16:04:32.346179",
     "exception": false,
     "start_time": "2025-06-09T16:04:32.253394",
     "status": "completed"
    },
    "tags": []
   },
   "outputs": [
    {
     "name": "stdout",
     "output_type": "stream",
     "text": [
      "\n",
      "Submission file saved as 'titanic_submission.csv'\n",
      "\n",
      "==================================================\n",
      "NEXT STEPS\n",
      "==================================================\n",
      "1. Try different models (XGBoost, SVM, etc.)\n",
      "2. Feature engineering (more creative features)\n",
      "3. Hyperparameter tuning\n",
      "4. Ensemble methods\n",
      "5. Handle outliers\n",
      "6. Advanced imputation techniques\n"
     ]
    }
   ],
   "source": [
    "# Save submission file\n",
    "submission.to_csv('titanic_submission.csv', index=False)\n",
    "print(\"\\nSubmission file saved as 'titanic_submission.csv'\")\n",
    "\n",
    "print(\"\\n\" + \"=\"*50)\n",
    "print(\"NEXT STEPS\")\n",
    "print(\"=\"*50)\n",
    "print(\"1. Try different models (XGBoost, SVM, etc.)\")\n",
    "print(\"2. Feature engineering (more creative features)\")\n",
    "print(\"3. Hyperparameter tuning\")\n",
    "print(\"4. Ensemble methods\")\n",
    "print(\"5. Handle outliers\")\n",
    "print(\"6. Advanced imputation techniques\")"
   ]
  }
 ],
 "metadata": {
  "kaggle": {
   "accelerator": "none",
   "dataSources": [
    {
     "databundleVersionId": 26502,
     "sourceId": 3136,
     "sourceType": "competition"
    }
   ],
   "dockerImageVersionId": 31040,
   "isGpuEnabled": false,
   "isInternetEnabled": true,
   "language": "python",
   "sourceType": "notebook"
  },
  "kernelspec": {
   "display_name": "Python 3",
   "language": "python",
   "name": "python3"
  },
  "language_info": {
   "codemirror_mode": {
    "name": "ipython",
    "version": 3
   },
   "file_extension": ".py",
   "mimetype": "text/x-python",
   "name": "python",
   "nbconvert_exporter": "python",
   "pygments_lexer": "ipython3",
   "version": "3.11.11"
  },
  "papermill": {
   "default_parameters": {},
   "duration": 37.098662,
   "end_time": "2025-06-09T16:04:33.181371",
   "environment_variables": {},
   "exception": null,
   "input_path": "__notebook__.ipynb",
   "output_path": "__notebook__.ipynb",
   "parameters": {},
   "start_time": "2025-06-09T16:03:56.082709",
   "version": "2.6.0"
  }
 },
 "nbformat": 4,
 "nbformat_minor": 5
}
